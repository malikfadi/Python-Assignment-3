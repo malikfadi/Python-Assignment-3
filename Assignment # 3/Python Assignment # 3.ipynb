{
 "cells": [
  {
   "cell_type": "code",
   "execution_count": 1,
   "id": "6b7d7656",
   "metadata": {},
   "outputs": [
    {
     "name": "stdout",
     "output_type": "stream",
     "text": [
      "Twinkle, twinkle, little star, \n",
      "\tHow I wonder what you are! \n",
      "\t\tUp above the world so high, \n",
      "\t\tLike a diamond in the sky. \n",
      "Twinkle, twinkle, little star, \n",
      "\tHow I wonder what you are!\n"
     ]
    }
   ],
   "source": [
    "'''\n",
    "1:Write a Python program to print the following string in a specific format (see the\n",
    "output).\n",
    "Twinkle, twinkle, little star,\n",
    "\n",
    "How I wonder what you are!\n",
    "\n",
    "Up above the world so high,\n",
    "Like a diamond in the sky.\n",
    "\n",
    "Twinkle, twinkle, little star,\n",
    "\n",
    "How I wonder what you are \n",
    "'''\n",
    "print(\"Twinkle, twinkle, little star, \\n\\tHow I wonder what you are! \\n\\t\\tUp above the world so high, \\n\\t\\tLike a diamond in the sky. \\nTwinkle, twinkle, little star, \\n\\tHow I wonder what you are!\")\n"
   ]
  },
  {
   "cell_type": "code",
   "execution_count": 2,
   "id": "76ba07db",
   "metadata": {},
   "outputs": [
    {
     "name": "stdout",
     "output_type": "stream",
     "text": [
      "3.8.8 (default, Apr 13 2021, 15:08:03) [MSC v.1916 64 bit (AMD64)]\n"
     ]
    }
   ],
   "source": [
    "# 2:Write a Python program to get the Python version you are using \n",
    "import sys\n",
    "print(sys.version)"
   ]
  },
  {
   "cell_type": "code",
   "execution_count": 3,
   "id": "edc518fe",
   "metadata": {},
   "outputs": [
    {
     "name": "stdout",
     "output_type": "stream",
     "text": [
      "Current date and time : \n",
      "2021-10-30 22:09:17\n"
     ]
    }
   ],
   "source": [
    "# 3:Write a Python program to display the current date and time. \n",
    "import datetime\n",
    "now = datetime.datetime.now()\n",
    "print (\"Current date and time : \")\n",
    "print (now.strftime(\"%Y-%m-%d %H:%M:%S\"))"
   ]
  },
  {
   "cell_type": "code",
   "execution_count": 4,
   "id": "6d56d2b2",
   "metadata": {},
   "outputs": [
    {
     "name": "stdout",
     "output_type": "stream",
     "text": [
      "Input the radius of the circle : 2\n",
      "The area of the circle with radius 2.0 is: 12.566370614359172\n"
     ]
    }
   ],
   "source": [
    "# 4:Write a Python program which accepts the radius of a circle from the user and compute the area\n",
    "from math import pi\n",
    "r = float(input (\"Input the radius of the circle : \"))\n",
    "print (\"The area of the circle with radius \" + str(r) + \" is: \" + str(pi * r**2))"
   ]
  },
  {
   "cell_type": "code",
   "execution_count": 5,
   "id": "c939afcc",
   "metadata": {},
   "outputs": [
    {
     "name": "stdout",
     "output_type": "stream",
     "text": [
      "Input your First Name : Fahad\n",
      "Input your Last Name : Ejaz\n",
      "Ejaz Fahad\n"
     ]
    }
   ],
   "source": [
    "# 5:Write a Python program which accepts the user's first and last name and print them in\n",
    "# reverse order with a space between them.\n",
    "fname = input(\"Input your First Name : \")\n",
    "lname = input(\"Input your Last Name : \")\n",
    "print (lname + \" \" + fname) "
   ]
  },
  {
   "cell_type": "code",
   "execution_count": 1,
   "id": "36ee089b",
   "metadata": {},
   "outputs": [
    {
     "name": "stdout",
     "output_type": "stream",
     "text": [
      "Type a number: 6\n",
      "Type another number: 7\n",
      "The sum is:  13\n"
     ]
    }
   ],
   "source": [
    "# 6:Write a python program which takes two inputs from user and print them addition\n",
    "x = input(\"Type a number: \")\n",
    "y = input(\"Type another number: \")\n",
    "\n",
    "sum = int(x) + int(y)\n",
    "\n",
    "print(\"The sum is: \", sum)\n"
   ]
  },
  {
   "cell_type": "code",
   "execution_count": 2,
   "id": "9b4bc44e",
   "metadata": {},
   "outputs": [
    {
     "name": "stdout",
     "output_type": "stream",
     "text": [
      "Enter marks of the first subject: 20\n",
      "Enter marks of the second subject: 10\n",
      "Enter marks of the third subject: 10\n",
      "Enter marks of the fourth subject: 10\n",
      "Enter marks of the fifth subject: 30\n",
      "Grade: B\n"
     ]
    }
   ],
   "source": [
    "# 7:Write a program which takes 5 inputs from user for different subject’s marks, total it\n",
    "# and generate mark sheet using grades ?\n",
    "sub1=int(input(\"Enter marks of the first subject: \"))\n",
    "sub2=int(input(\"Enter marks of the second subject: \"))\n",
    "sub3=int(input(\"Enter marks of the third subject: \"))\n",
    "sub4=int(input(\"Enter marks of the fourth subject: \"))\n",
    "sub5=int(input(\"Enter marks of the fifth subject: \"))\n",
    "total=(sub1+sub2+sub3+sub4+sub5)\n",
    "if(total>=90):\n",
    "    print(\"Grade: A\")\n",
    "elif(total>=80 and total<90):\n",
    "    print(\"Grade: B\")\n",
    "elif(total>=70 and total<80):\n",
    "    print(\"Grade: C\")\n",
    "elif(total>=60 and total<70):\n",
    "    print(\"Grade: D\")\n",
    "else:\n",
    "    print(\"Grade: F\")\n"
   ]
  },
  {
   "cell_type": "code",
   "execution_count": 3,
   "id": "395d986d",
   "metadata": {},
   "outputs": [
    {
     "name": "stdout",
     "output_type": "stream",
     "text": [
      "Enter a number: 33\n",
      "This is an odd number.\n"
     ]
    }
   ],
   "source": [
    "# 8:Write a program which take input from user and identify that the given number is even or odd? \n",
    "num = int(input(\"Enter a number: \"))\n",
    "mod = num % 2\n",
    "if mod > 0:\n",
    "    print(\"This is an odd number.\")\n",
    "else:\n",
    "    print(\"This is an even number.\")"
   ]
  },
  {
   "cell_type": "code",
   "execution_count": 4,
   "id": "dad9c4a7",
   "metadata": {},
   "outputs": [
    {
     "name": "stdout",
     "output_type": "stream",
     "text": [
      "Number of items in the list =  6\n"
     ]
    }
   ],
   "source": [
    "# 9:Write a program which print the length of the list?\n",
    "List = [\"Ali\", \"Fahad\", 4, 6, 10,\"Raja\"]\n",
    "print (\"Number of items in the list = \", len(List))"
   ]
  },
  {
   "cell_type": "code",
   "execution_count": 1,
   "id": "e95d9d03",
   "metadata": {},
   "outputs": [
    {
     "name": "stdout",
     "output_type": "stream",
     "text": [
      "167\n"
     ]
    }
   ],
   "source": [
    "# 10:Write a Python program to sum all the numeric items in a list?\n",
    "numbers = [1,21,3,98,5,1,4,34] \n",
    "Sum = sum(numbers) \n",
    "print(Sum)"
   ]
  },
  {
   "cell_type": "code",
   "execution_count": 7,
   "id": "5a514b81",
   "metadata": {},
   "outputs": [
    {
     "name": "stdout",
     "output_type": "stream",
     "text": [
      "Largest element is: 23\n"
     ]
    }
   ],
   "source": [
    "# 11:Write a Python program to get the largest number from a numeric list.\n",
    "list3 = [16, 20, 23, 9, 8]\n",
    "print(\"Largest element is:\", max(list3))\n"
   ]
  },
  {
   "cell_type": "code",
   "execution_count": 8,
   "id": "93c060ea",
   "metadata": {},
   "outputs": [
    {
     "name": "stdout",
     "output_type": "stream",
     "text": [
      "[1, 1, 2, 3]\n"
     ]
    }
   ],
   "source": [
    "# 12:Take a list, say for example this one:\n",
    "\n",
    "#a = [1, 1, 2, 3, 5, 8, 13, 21, 34, 55, 89]\n",
    "# Write a program that prints out all the elements of the list that are less than 5.\n",
    "a = [1, 1, 2, 3, 5, 8, 13, 21, 34, 55, 89]\n",
    "b = []\n",
    "for elements in a:\n",
    " if elements < 5:\n",
    "  b.append(elements)\n",
    "print(b)"
   ]
  },
  {
   "cell_type": "code",
   "execution_count": null,
   "id": "d74ea297",
   "metadata": {},
   "outputs": [],
   "source": []
  }
 ],
 "metadata": {
  "kernelspec": {
   "display_name": "Python 3",
   "language": "python",
   "name": "python3"
  },
  "language_info": {
   "codemirror_mode": {
    "name": "ipython",
    "version": 3
   },
   "file_extension": ".py",
   "mimetype": "text/x-python",
   "name": "python",
   "nbconvert_exporter": "python",
   "pygments_lexer": "ipython3",
   "version": "3.8.8"
  }
 },
 "nbformat": 4,
 "nbformat_minor": 5
}
